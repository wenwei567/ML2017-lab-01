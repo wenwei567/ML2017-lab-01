{
 "cells": [
  {
   "cell_type": "code",
   "execution_count": 74,
   "metadata": {
    "collapsed": true
   },
   "outputs": [],
   "source": [
    "%matplotlib inline"
   ]
  },
  {
   "cell_type": "code",
   "execution_count": 129,
   "metadata": {
    "collapsed": true
   },
   "outputs": [],
   "source": [
    "from sklearn.datasets import load_svmlight_file\n",
    "import matplotlib.pyplot as plt\n",
    "import numpy as np"
   ]
  },
  {
   "cell_type": "code",
   "execution_count": 130,
   "metadata": {
    "collapsed": true
   },
   "outputs": [],
   "source": [
    "def Loss(x,y,w):\n",
    "    return np.dot((y -np.dot(x,w)).T,(y -np.dot(x,w)))"
   ]
  },
  {
   "cell_type": "code",
   "execution_count": 131,
   "metadata": {
    "collapsed": true
   },
   "outputs": [],
   "source": [
    "def Gradient(x,y,w):\n",
    "    return -np.dot(x.T,y) + np.dot(x.T,np.dot(x,w))"
   ]
  },
  {
   "cell_type": "code",
   "execution_count": 157,
   "metadata": {},
   "outputs": [],
   "source": [
    "def GradientDescent(x,y,w,iteration,rate):\n",
    "    for i in range(iteration):\n",
    "        gradient = Gradient(x,y,w)\n",
    "\n",
    "        #plt.plot(Loss(x,y,w))\n",
    "        w = w-rate*gradient\n",
    "        train_loss.append(Loss(x,y,w)[0,0])\n",
    "    return w"
   ]
  },
  {
   "cell_type": "code",
   "execution_count": 151,
   "metadata": {
    "collapsed": true
   },
   "outputs": [],
   "source": [
    "def main():\n",
    "    data = load_svmlight_file(\"/home/wade/文档/housing_scale.txt\")\n",
    "    x = data[0].toarray()  #506*13矩阵\n",
    "    y = data[1].reshape(506,1) #501*1矩阵\n",
    "    w = np.zeros((13,1))  #13*1矩阵\n",
    "    rate = 0.001\n",
    "    train_loss = []\n",
    "    w = GradientDescent(x,y,w,10000,rate)\n",
    "    #plt.plot(range(10000),train_loss)\n",
    "    plt.show()"
   ]
  },
  {
   "cell_type": "code",
   "execution_count": 160,
   "metadata": {},
   "outputs": [
    {
     "data": {
      "image/png": "[encoded data removed]",
      "text/plain": [
       "<matplotlib.figure.Figure at 0x7f414f789908>"
      ]
     },
     "metadata": {},
     "output_type": "display_data"
    }
   ],
   "source": [
    "data = load_svmlight_file(\"/home/wade/文档/housing_scale.txt\")\n",
    "x = data[0].toarray()  #506*13矩阵\n",
    "y = data[1].reshape(506,1) #501*1矩阵\n",
    "w = np.ones((13,1))  #13*1矩阵\n",
    "rate = 0.1\n",
    "train_loss = []\n",
    "w = GradientDescent(x,y,w,100,rate)\n",
    "plt.plot(np.arange(0,100,1),train_loss)\n",
    "plt.show()\n"
   ]
  }
 ],
 "metadata": {
  "kernelspec": {
   "display_name": "Python 3",
   "language": "python",
   "name": "python3"
  },
  "language_info": {
   "codemirror_mode": {
    "name": "ipython",
    "version": 3
   },
   "file_extension": ".py",
   "mimetype": "text/x-python",
   "name": "python",
   "nbconvert_exporter": "python",
   "pygments_lexer": "ipython3",
   "version": "3.6.3"
  }
 },
 "nbformat": 4,
 "nbformat_minor": 2
}
