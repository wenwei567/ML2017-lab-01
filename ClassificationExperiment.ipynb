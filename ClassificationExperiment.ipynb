{
 "cells": [
  {
   "cell_type": "code",
   "execution_count": 1,
   "metadata": {
    "collapsed": true
   },
   "outputs": [],
   "source": [
    "import numpy as np\n",
    "import matplotlib.pyplot as plt\n",
    "from sklearn.datasets import load_svmlight_file\n",
    "from sklearn.model_selection import train_test_split"
   ]
  },
  {
   "cell_type": "code",
   "execution_count": 2,
   "metadata": {
    "collapsed": true
   },
   "outputs": [],
   "source": [
    "#松弛变量为max(0,1-y(wx-b))\n",
    "def HingeLoss(X,y,w):\n",
    "    n_sample = X.shape[0]\n",
    "    f1 = np.ones((n_sample,1)) - y * np.dot(X,w)\n",
    "    #f_sum = 0\n",
    "    for i in range (n_sample):\n",
    "        if(f1[i,0] < 0):\n",
    "            f1[i,0] = 0\n",
    "    return f1 #返回值为记录松弛变量的列向量"
   ]
  },
  {
   "cell_type": "code",
   "execution_count": 3,
   "metadata": {
    "collapsed": true
   },
   "outputs": [],
   "source": [
    "#损失函数为 【((w.T)w)/2 + c * Hingeloss】/n\n",
    "def Loss(X,y,w):\n",
    "#    c = 100\n",
    "    n_sample = X.shape[0]\n",
    "    loss = np.dot(w.T,w)/2 + c * np.sum(HingeLoss(X,y,w))\n",
    "    loss = loss/n_sample\n",
    "    return (loss[0,0])"
   ]
  },
  {
   "cell_type": "code",
   "execution_count": 4,
   "metadata": {
    "collapsed": true
   },
   "outputs": [],
   "source": [
    "def Gradient(X,y,w):\n",
    " #   c = 100\n",
    "    n_sample,n_feature = X.shape\n",
    "    f1 = np.ones((n_sample,1)) - y * np.dot(X,w)  # 1-y(Xw+b) ,用来判断下一步的梯度\n",
    "    gradient = np.zeros((1,n_feature))\n",
    "    for i in range (n_sample):\n",
    "        if(f1[i,0] < 0):\n",
    "            gradient = gradient + w.T;  # (1-y(Xw+b)) < 0,梯度为 w.T\n",
    "        else:\n",
    "            gradient = gradient + w.T - (c * np.dot(y.T,X)) # (1-y(Xw+b)) >= 0,梯度为 w.T -c*((y.T)X)\n",
    "    gradient = gradient/n_sample\n",
    "    return gradient"
   ]
  },
  {
   "cell_type": "code",
   "execution_count": 5,
   "metadata": {
    "collapsed": true
   },
   "outputs": [],
   "source": [
    "def GradientDescent(X,y,w,iteration,lr,train_loss,X_test,y_test,test_loss):\n",
    "    for i in range(iteration):\n",
    "        gradient = Gradient(X,y,w)\n",
    "        w = w - lr * gradient.T\n",
    "        train_loss.append(Loss(X,y,w))\n",
    "        test_loss.append(Loss(X_test,y_test,w))\n",
    "    return w"
   ]
  },
  {
   "cell_type": "code",
   "execution_count": 6,
   "metadata": {
    "collapsed": true
   },
   "outputs": [],
   "source": [
    "def Right_rate(X_train,y_train,X_test,y_test,w):\n",
    "    n_test = X_test.shape[0]  #验证集数量\n",
    "    result = np.dot(X_test,w) # 记录 (wx -b)\n",
    "\n",
    "    hingeloss = HingeLoss(X_train,y_train,w) #计算松弛变量\n",
    "    n = 0  #记录松弛变量>0的个数\n",
    "    sum_hinge = 0 #记录松弛变量>0的松弛变量的和\n",
    "    for i in range(X_train.shape[0]):\n",
    "        if(hingeloss[i,0] > 0):\n",
    "            n = n+1\n",
    "            sum_hinge += hingeloss[i,0]\n",
    "    hinge = sum_hinge/n   #松弛变量值的均值(为0的不参与平均）\n",
    "    for i in range(n_test):\n",
    "        if(result[i] >(1-hinge)):\n",
    "            result[i] = 1\n",
    "        else:\n",
    "            result[i] = -1\n",
    "\n",
    "    n = 0\n",
    "    for i in range(n_test):  #计算判断正确的个数\n",
    "           if(result[i,0] == y_test[i,0]):\n",
    "                n += 1\n",
    "\n",
    "    right_rate = n/n_test #计算正确率\n",
    "    return right_rate"
   ]
  },
  {
   "cell_type": "code",
   "execution_count": 8,
   "metadata": {},
   "outputs": [
    {
     "data": {
      "image/png": "[encoded data removed]",
      "text/plain": [
       "<matplotlib.figure.Figure at 0x7f11b0670d30>"
      ]
     },
     "metadata": {},
     "output_type": "display_data"
    },
    {
     "name": "stdout",
     "output_type": "stream",
     "text": [
      "准确率为： 0.868421052631579\n"
     ]
    }
   ],
   "source": [
    "data = load_svmlight_file(\"/home/wade/文档/australian_scale.txt\")\n",
    "X = data[0].toarray()\n",
    "y = data[1]\n",
    "n_data,n_feature = X.shape\n",
    "X = np.c_[X,np.ones((n_data,1))]\n",
    "y = y.reshape(n_data,1)\n",
    "\n",
    "\n",
    "X_train,X_test,y_train,y_test = train_test_split(X,y,test_size = 0.33)\n",
    "\n",
    "w = np.zeros((n_feature+1,1))\n",
    "iteration = 700\n",
    "lr = 0.00001\n",
    "c = 0.9\n",
    "train_loss = []\n",
    "test_loss = []\n",
    "w = GradientDescent(X_train,y_train,w,iteration,lr,train_loss,X_test,y_test,test_loss)\n",
    "plt.plot(range(iteration),train_loss,label ='training loss')\n",
    "plt.plot(range(iteration),test_loss,label ='validation loss')\n",
    "plt.xlabel('Iteration')\n",
    "plt.ylabel('Loss')\n",
    "plt.legend()\n",
    "plt.show()\n",
    "right_rate = Right_rate(X_train,y_train,X_test,y_test,w)\n",
    "print('准确率为：',right_rate)"
   ]
  }
 ],
 "metadata": {
  "kernelspec": {
   "display_name": "Python 3",
   "language": "python",
   "name": "python3"
  },
  "language_info": {
   "codemirror_mode": {
    "name": "ipython",
    "version": 3
   },
   "file_extension": ".py",
   "mimetype": "text/x-python",
   "name": "python",
   "nbconvert_exporter": "python",
   "pygments_lexer": "ipython3",
   "version": "3.6.3"
  }
 },
 "nbformat": 4,
 "nbformat_minor": 2
}
