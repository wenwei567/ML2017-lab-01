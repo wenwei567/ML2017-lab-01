{
 "cells": [
  {
   "cell_type": "code",
   "execution_count": 2,
   "metadata": {
    "collapsed": true
   },
   "outputs": [],
   "source": [
    "import numpy as np\n",
    "import matplotlib.pyplot as plt\n",
    "from sklearn.datasets import load_svmlight_file\n",
    "from sklearn.model_selection import train_test_split"
   ]
  },
  {
   "cell_type": "code",
   "execution_count": 3,
   "metadata": {
    "collapsed": true
   },
   "outputs": [],
   "source": [
    "# loss(w) = ((y-xw).T *(y-xw)) / 2n\n",
    "def Loss(X,y,w):\n",
    "    loss = (y - np.dot(X,w))\n",
    "    loss = np.dot(loss.T,loss) / (2*n_sample)\n",
    "    return loss[0,0]  #返回值为实数"
   ]
  },
  {
   "cell_type": "code",
   "execution_count": 4,
   "metadata": {
    "collapsed": true
   },
   "outputs": [],
   "source": [
    "# loss(w)的梯度为 X.T(Xw - y)/2n\n",
    "def Gradient(X,y,w):\n",
    "    return np.dot(X.T,(np.dot(X,w)-y))/(2*n_sample) #返回值为列向量"
   ]
  },
  {
   "cell_type": "code",
   "execution_count": 5,
   "metadata": {
    "collapsed": true
   },
   "outputs": [],
   "source": [
    "def GradientDescent(X,y,w,iteration,lr,train_loss,X_test,y_test,test_loss):\n",
    "    for i in range(iteration):\n",
    "        gradient = Gradient(X,y,w)\n",
    "        w = w-lr*gradient\n",
    "        train_loss.append(Loss(X,y,w))\n",
    "        test_loss.append(Loss(X_test,y_test,w)) #记录训练集和测试集的loss\n",
    "    return w  #返回值为列向量"
   ]
  },
  {
   "cell_type": "code",
   "execution_count": 56,
   "metadata": {
    "scrolled": true
   },
   "outputs": [
    {
     "data": {
      "image/png": "[encoded data removed]",
      "text/plain": [
       "<matplotlib.figure.Figure at 0x7fb79fa2def0>"
      ]
     },
     "metadata": {},
     "output_type": "display_data"
    },
    {
     "name": "stdout",
     "output_type": "stream",
     "text": [
      "The last loss of test set is: 6.72502226116\n"
     ]
    }
   ],
   "source": [
    "data = load_svmlight_file(\"/home/wade/文档/housing_scale.txt\")\n",
    "X = data[0].toarray()  #将特征集转为506*13矩阵\n",
    "number_data=len(data[1])\n",
    "X = np.c_[X,np.ones((number_data,1))] #添加一列特征求偏移量\n",
    "y = data[1].reshape(number_data,1) #将标记集转为501*1矩阵\n",
    "X_train,X_test,y_train,y_test = train_test_split(X,y,test_size = 0.33) #将数据集切分为训练集和验证集\n",
    "\n",
    "n_sample,n_feature= X_train.shape\n",
    "w = np.zeros((n_feature,1))  #w初始化为列向量，值为0\n",
    "lr = 0.01 #学习率\n",
    "train_loss = []\n",
    "test_loss = []\n",
    "number_train = 600\n",
    "w = GradientDescent(X_train,y_train,w,number_train,lr,train_loss,X_test,y_test,test_loss)\n",
    "plt.plot(range(number_train),train_loss,label='training loss')\n",
    "plt.plot(range(number_train),test_loss,label =\"validation loss\")\n",
    "plt.xlabel('Iteration')\n",
    "plt.ylabel('Loss')\n",
    "plt.legend()\n",
    "plt.show()\n",
    "print (\"The last loss of test set is:\",Loss(X_test,y_test,w))"
   ]
  },
  {
   "cell_type": "code",
   "execution_count": null,
   "metadata": {
    "collapsed": true
   },
   "outputs": [],
   "source": []
  },
  {
   "cell_type": "code",
   "execution_count": null,
   "metadata": {
    "collapsed": true
   },
   "outputs": [],
   "source": []
  }
 ],
 "metadata": {
  "kernelspec": {
   "display_name": "Python 3",
   "language": "python",
   "name": "python3"
  },
  "language_info": {
   "codemirror_mode": {
    "name": "ipython",
    "version": 3
   },
   "file_extension": ".py",
   "mimetype": "text/x-python",
   "name": "python",
   "nbconvert_exporter": "python",
   "pygments_lexer": "ipython3",
   "version": "3.6.3"
  }
 },
 "nbformat": 4,
 "nbformat_minor": 2
}
